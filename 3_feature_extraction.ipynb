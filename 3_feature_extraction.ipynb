{
  "cells": [
    {
      "cell_type": "markdown",
      "id": "06eb2db5",
      "metadata": {
        "id": "06eb2db5"
      },
      "source": [
        "<img src=\"https://drive.google.com/uc?export=view&id=1Q6vQcIWFPY27isBepABpJ7nroUNKox_Z\" width=\"100%\">"
      ]
    },
    {
      "cell_type": "markdown",
      "id": "fb006272",
      "metadata": {
        "id": "fb006272"
      },
      "source": [
        "# Extracción de Características\n",
        "---\n",
        "\n",
        "Este notebook es una plantilla que le puede servir como guía para el tercer entregable del proyecto aplicado."
      ]
    },
    {
      "cell_type": "markdown",
      "id": "cd5bb0b6",
      "metadata": {
        "id": "cd5bb0b6"
      },
      "source": [
        "## **1. Selección del Embedding**\n",
        "---\n",
        "\n",
        "Seleccione el tipo de **embedding** que considere más apropiado para su problema. Recuerde las siguientes consideraciones:\n",
        "\n",
        "- **Bolsas de palabras**: son útiles para representar documentos completos. Funcionan bien con corpus pequeños (<10000 documentos).\n",
        "- **TF-IDF**: permite obtener una representación ponderada de documentos completos; es una alternativa a las bolsas de palabras.\n",
        "- **Bolsas de N-grams**: a nivel de carácter son útiles para representar palabras o segmentos cortos de texto, funcionan bien con corpus pequeños (<10000 documentos).\n",
        "- **Word2Vec**: permite representar palabras de forma semántica, requiere corpus grandes para un buen resultado (>10000 documentos).\n",
        "- **FastText**: permite representar palabras o segmentos cortos de texto, funcionan bien con corpus grandes (>10000 documentos). Es una alternativa a word2vec que puede representar palabras fuera del vocabulario.\n",
        "- **Doc2Vec**: permite representar documentos completos de forma semántica. Funciona bien con corpus grandes (>10000 documentos).\n",
        "\n",
        "Justifique la selección del embedding:"
      ]
    },
    {
      "cell_type": "markdown",
      "id": "23bbebc8",
      "metadata": {
        "id": "23bbebc8"
      },
      "source": [
        "---**INGRESE SU RESPUESTA**---"
      ]
    },
    {
      "cell_type": "markdown",
      "id": "3fef6dbc",
      "metadata": {
        "id": "3fef6dbc"
      },
      "source": [
        "## **2. Implementación del Embedding**\n",
        "---\n",
        "\n",
        "Implemente la estrategia de embedding a partir del conjunto de datos pre-procesado. Recuerde que:\n",
        "\n",
        "- `sklearn`: permite implementar bolsas de palabras, TF-IDF y bolsas de N-grams a partir del módulo `sklearn.feature_extraction.text`.\n",
        "- `gensim`: permite implementar word2vec, fasttext y doc2vec desde `gensim.models`.\n",
        "- `spacy`: permite representar textos con embeddings pre-entrenados con el atributo `vector`."
      ]
    },
    {
      "cell_type": "code",
      "execution_count": null,
      "id": "cacd99cf",
      "metadata": {
        "id": "cacd99cf"
      },
      "outputs": [],
      "source": [
        "# ---**INGRESE SU CÓDIGO**---"
      ]
    },
    {
      "cell_type": "markdown",
      "id": "27aa7fd6",
      "metadata": {
        "id": "27aa7fd6"
      },
      "source": [
        "## **3. Exploración del Embedding**\n",
        "---\n",
        "\n",
        "Puede explorar la representación obtenida por medio de distintas técnicas de visualización o métricas:\n",
        "\n",
        "- **Análisis de Correlaciones**: si tiene una variable objetivo, puede evaluar correlaciones entre los embeddings y dicha variable.\n",
        "- **Nubes de palabras**: puede utilizar gráficos de tipo `wordcloud` para visualizar representaciones basadas en conteos\n",
        "- **Distribuciones**: puede calcular histogramas o gráficos de densidad para mostrar la distribución de embeddings semánticos."
      ]
    },
    {
      "cell_type": "code",
      "execution_count": null,
      "id": "099040e2",
      "metadata": {
        "id": "099040e2"
      },
      "outputs": [],
      "source": [
        "# ---**INGRESE SU CÓDIGO**---"
      ]
    },
    {
      "cell_type": "markdown",
      "id": "d902f343",
      "metadata": {
        "id": "d902f343"
      },
      "source": [
        "## **Créditos**\n",
        "\n",
        "* **Profesor:** [Felipe Restrepo Calle](https://dis.unal.edu.co/~ferestrepoca/)\n",
        "* **Asistentes docentes:**\n",
        "    - [Juan Sebastián Lara Ramírez](https://www.linkedin.com/in/juan-sebastian-lara-ramirez-43570a214/).\n",
        "* **Diseño de imágenes:**\n",
        "    - [Rosa Alejandra Superlano Esquibel](mailto:rsuperlano@unal.edu.co).\n",
        "* **Coordinador de virtualización:**\n",
        "    - [Edder Hernández Forero](https://www.linkedin.com/in/edder-hernandez-forero-28aa8b207/).\n",
        "\n",
        "**Universidad Nacional de Colombia** - *Facultad de Ingeniería*"
      ]
    }
  ],
  "metadata": {
    "jupytext": {
      "cell_metadata_filter": "-all"
    },
    "kernelspec": {
      "display_name": "Python 3 (ipykernel)",
      "language": "python",
      "name": "python3"
    },
    "colab": {
      "provenance": []
    }
  },
  "nbformat": 4,
  "nbformat_minor": 5
}