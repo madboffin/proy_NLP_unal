{
  "cells": [
    {
      "cell_type": "markdown",
      "id": "585dcbfa",
      "metadata": {
        "id": "585dcbfa"
      },
      "source": [
        "<img src=\"https://drive.google.com/uc?export=view&id=1AQr9H9bXDeNPchTRufU78g8z0yxHvrmC\" width=\"100%\">"
      ]
    },
    {
      "cell_type": "markdown",
      "id": "82ea3b5e",
      "metadata": {
        "id": "82ea3b5e"
      },
      "source": [
        "# **Entendimiento del Negocio y Carga de Textos**\n",
        "---\n",
        "\n",
        "Desarrollado por:\n",
        "```\n",
        "* Manuel Huertas    manuelhuertasfl@gmail.com\n",
        "* Jose Lugo         jlugon@unal.edu.co\n",
        "* Sebastian Valdes  js.valdes@uniandes.edu.co\n",
        "\n",
        "```"
      ]
    },
    {
      "cell_type": "markdown",
      "id": "fdb4c33d",
      "metadata": {
        "id": "fdb4c33d"
      },
      "source": [
        "## **1. Marco de Proyecto**\n",
        "---\n",
        "\n",
        "Normalmente, se suele construir un marco de proyecto para mostrar los resultados del entendimiento del negocio, es decir, debemos dar respuesta a los siguientes elementos:"
      ]
    },
    {
      "cell_type": "markdown",
      "id": "7a974ec1",
      "metadata": {
        "id": "7a974ec1"
      },
      "source": [
        "### **1.1. Trasfondo del Negocio**\n",
        "---"
      ]
    },
    {
      "cell_type": "markdown",
      "id": "18d9305a",
      "metadata": {
        "id": "18d9305a"
      },
      "source": [
        "En la actualidad, gracias a Internet, se han desarrollado diversas formas de conectarse y comunicarse con personas de todo el mundo, desde las redes sociales hasta los videojuegos en línea, donde es posible interactuar tanto para obtener información y conocimiento como para disfrutar de momentos de entretenimiento. \n",
        "Por esta razón, en los últimos años, cada vez más empresas han estado dispuestas a ingresar al mundo digital debido a la gran cantidad de usuarios que utilizan estas plataformas. \n",
        "Esto, a su vez, ha incrementado las comunidades virtuales y fortalecido los lazos resultantes.\n",
        "\n",
        "Sin embargo, también se ha observado un aumento en la violencia o toxicidad, como se refleja en diversas encuestas. \n",
        "Según una encuesta realizada por el centro de investigación Pew Research Center, el 40% de los encuestados manifestó haber sido víctima de violencia o toxicidad en las redes, siendo con frecuencia objeto de violencia sexual o acoso. \n",
        "Además, los encuestados informan con mayor frecuencia sobre este tipo de comportamientos, como se ha registrado entre 2014 y 2020.[[1]](https://www.pewresearch.org/internet/2021/01/13/the-state-of-online-harassment/).\n",
        "\n",
        "Por esta razón las empresas dueñas de estos espacios de interacción tienen la necesidad de usar filtros que permitan a sus usuarios compartir en el mundo digital sin estar expuestos a acoso por parte de otros, lo que afecta negativamente la experiencia que proveen. Empresas como Jigsaw y Google, ambas subsidiarias de Alphabet, han realizado esfuerzos para mitigar esta problemática. \n",
        "Por lo cual se han desarrollado filtros que permiten distinguir mensajes de odio que se reproducen en las redes con el fin de sancionar o limitar el acceso de usuarios que recurren a estas prácticas, no obstante los filtros a menudo fallan y enmarcan como discursos de odio mensajes que en su fondo no lo son, llevando a falsos positivos y posibles sanciones a usuarios que no están infringiendo las reglas de la comunidad, y así afectando la experiencia en general de todos modos.\n",
        "\n",
        "Es por esto que el presente trabajo busca identificar los mensajes violentos o de acoso que afectan estas comunidades, a la vez que se mantiene la calidad de la experiencia para los usuarios de forma que se permita tener comunidades y espacios seguros que no se vean afectados por filtros sesgados, con altos niveles de falsos positivos."
      ]
    },
    {
      "cell_type": "markdown",
      "id": "d09c63e5",
      "metadata": {
        "id": "d09c63e5"
      },
      "source": [
        "### **1.2. Alcance**\n",
        "---"
      ]
    },
    {
      "cell_type": "markdown",
      "id": "12e3be6b",
      "metadata": {
        "id": "12e3be6b"
      },
      "source": [
        "Para aliviar los problemas de toxicidad en las redes, este proyecto tiene como objetivo desarrollar un modelo capaz de clasificar los comentarios tóxicos, de interacciones en línea, que permita a las empresas, como Jigsaw y Google que tienen aplicaciones con interacción de usuarios, reconocer de una manera efectiva los niveles de violencia en redes, y que controle los falsos positivos que generan los filtros tradicionales. \n",
        "Por lo tanto el modelo debe ser sensible a diferentes contextos y debe poder distinguir los discursos de odio de los mensajes donde solo se mencionan palabras que sin serlo están asociadas a discursos de odio, como la palabra gay en inglés, o retrazo en español."
      ]
    },
    {
      "cell_type": "markdown",
      "id": "370e4a5d",
      "metadata": {
        "id": "370e4a5d"
      },
      "source": [
        "### **1.3. Plan**\n",
        "---\n",
        "\n",
        "Puede agregar una lista de actividades con tiempos estimados, un diagrama de Gantt o integrar alguna herramienta de gestión de proyectos para mostrar la planeación del proyecto."
      ]
    },
    {
      "cell_type": "markdown",
      "id": "3b465355",
      "metadata": {
        "id": "3b465355"
      },
      "source": [
        "| Fechas                         | Actividades                                                                                      |\n",
        "|--------------------------------|--------------------------------------------------------------------------------------------------|\n",
        "| 14 de Febrero - 21 de Febrero   | Entendimiento de negocio y carga de los datos.                                                    |\n",
        "| 22 de Febrero - 29 de Febrero   | Recopilación y limpieza de un conjunto de datos diverso y representativo.                         |\n",
        "| 1 de Marzo - 7 de Marzo         | Desarrollo de modelos de NLP que puedan reconocer diferentes formas y subtipos de toxicidad en los comentarios. |\n",
        "| 8 de Marzo - 14 de Marzo         | Implementación de mecanismos para detectar y reducir el sesgo en los modelos, asegurando que el reconocimiento de toxicidad no se vea influenciado negativamente por sesgos preexistentes en los datos. |\n",
        "| 15 de Marzo - 18 de Marzo        | Evaluación y optimización continua del modelo utilizando métricas específicas para medir el sesgo no intencionado y la precisión en la detección de toxicidad. |\n"
      ]
    },
    {
      "cell_type": "markdown",
      "id": "4a4e145b",
      "metadata": {
        "id": "4a4e145b"
      },
      "source": [
        "## **2. Definición del Corpus**\n",
        "---"
      ]
    },
    {
      "cell_type": "markdown",
      "id": "7261ad96",
      "metadata": {
        "id": "7261ad96"
      },
      "source": [
        "El corpus a usar para el desarrollo del proyecto proviene de Kaggle y se encuentra con el nombre de *“Jigsaw Unintended Bias in Toxicity Classification”* ([link a Kaggle](https://www.kaggle.com/competitions/jigsaw-unintended-bias-in-toxicity-classification/)).\n",
        "\n",
        "Este es un dataset con aproximadamente 1.97 millones comentarios de la plataforma *Civil Comments* ([más información](https://medium.com/@aja_15265/saying-goodbye-to-civil-comments-41859d3a2b1d)), creados entre 2015 y 2017 por usuarios angloparlantes.\n",
        "\n",
        "La columna principal del corpus es *comment_text*, que incluye el texto de cada comentario. \n",
        "Cada comentario está acompañado por una etiqueta principal de toxicidad (*target*), un número de 0 a 1, que indica la proporción de evaluadores que consideraron el comentario como tóxico. \n",
        "Además, el conjunto de datos incluye etiquetas para subtipos de toxicidad como *severe_toxicity*, *obscene*, *threat*, *insult*, *identity_attack* y *sexual_explicit*.\n",
        "\n",
        "El conjunto de datos también incluye atributos de identidad, según sean mencionadas en el comentario correspondiente. \n",
        "Estos atributos abarcan categorías como **género** (*male*, *female*, *transgender*, *other_gender*), **orientación sexual** (*heterosexual*, *homosexual_gay_or_lesbian*, *bisexual*, *other_sexual_orientation*), **religión** (*christian*, *jewish*, *muslim*, *hindu*, *buddhist*, *atheist*, *other_religion*), **raza** o **etnicidad** (*black*, *white*, *asian*, *latino*, *other_race_or_ethnicity*), y **discapacidad** (*physical_disability*, *intellectual_or_learning_disability*, *psychiatric_or_mental_illness*, *other_disability*).\n",
        "\n",
        "Además el corpus se encuentra particionado en los conjuntos de entrenamiento y prueba. \n",
        "El primero cuenta con 1'804.874 entradas, mientras que la partición de prueba tiene un total de 97.320 filas (Aunque no se hará uso de todas ya que el corpus es de tamaño considerable).\n",
        "\n",
        "Algunos ejemplos del dataset:\n",
        "* Ejemplo 1\n",
        "```\n",
        "Comentario: i'm a white woman in my late 60's and believe me, they are not too crazy about me either!!\n",
        "\n",
        "Etiquetas de toxicidad: All 0.0\n",
        "Etiquetas de mención de identidades: female: 1.0, white: 1.0 (all others 0.0)\n",
        "```\n",
        "* Ejemplo 2\n",
        "```\n",
        "Comentario: Continue to stand strong LGBT community. Yes, indeed, you'll overcome and you have.\n",
        "\n",
        "Etiqueta de toxicidad: All 0.0\n",
        "Etiquetas de mención de identidades: homosexual_gay_or_lesbian: 0.8, bisexual: 0.6, transgender: 0.3 (all others 0.0)\n",
        "```\n",
        "\n",
        "El dataset se encuentra disponible en la plataforma de Kaggle, bajo el título mencionado anteriormente, y también fué subido a Google Drive como un archivo público.\n"
      ]
    },
    {
      "cell_type": "markdown",
      "id": "67ad0435",
      "metadata": {},
      "source": [
        "# Entendimiento y Preparación del Corpus\n",
        "---\n",
        "\n",
        "Este notebook es una plantilla que le puede servir como guía para el segundo entregable del proyecto aplicado."
      ]
    },
    {
      "cell_type": "markdown",
      "id": "4a9cc180",
      "metadata": {
        "id": "4a9cc180"
      },
      "source": [
        "### **2.2. Carga o Adquisición de Textos**\n",
        "---"
      ]
    },
    {
      "cell_type": "code",
      "execution_count": null,
      "id": "30f7dd01",
      "metadata": {},
      "outputs": [],
      "source": [
        "%pip install gdown"
      ]
    },
    {
      "cell_type": "code",
      "execution_count": null,
      "id": "d247dc0c",
      "metadata": {},
      "outputs": [
        {
          "name": "stdout",
          "output_type": "stream",
          "text": [
            "Collecting unidecode\n",
            "  Downloading Unidecode-1.3.8-py3-none-any.whl (235 kB)\n",
            "\u001b[2K     \u001b[90m━━━━━━━━━━━━━━━━━━━━━━━━━━━━━━━━━━━━━━━━\u001b[0m \u001b[32m235.5/235.5 kB\u001b[0m \u001b[31m4.5 MB/s\u001b[0m eta \u001b[36m0:00:00\u001b[0m\n",
            "\u001b[?25hInstalling collected packages: unidecode\n",
            "Successfully installed unidecode-1.3.8\n"
          ]
        }
      ],
      "source": [
        "from typing import Iterable\n",
        "import re\n",
        "!pip install unidecode\n",
        "from sklearn.feature_extraction.text import CountVectorizer\n",
        "from unidecode import unidecode\n",
        "from wordcloud import WordCloud\n",
        "import spacy\n",
        "import gdown  # libreria para descargar archivos grandes desde Google Drive\n",
        "import pandas as pd\n",
        "import matplotlib.pyplot as plt\n",
        "import plotly.express as px\n",
        "import seaborn as sns\n",
        "pd.set_option('display.max_columns', 500)  # Mostrar mas columnas de un DataFrame\n",
        "sns.set(style=\"darkgrid\")"
      ]
    },
    {
      "cell_type": "code",
      "execution_count": null,
      "id": "6689807e",
      "metadata": {},
      "outputs": [
        {
          "name": "stderr",
          "output_type": "stream",
          "text": [
            "Downloading...\n",
            "From (original): https://drive.google.com/uc?id=1D31Z6sUCVUynRyimxs2n8rrULnlwhP9l\n",
            "From (redirected): https://drive.google.com/uc?id=1D31Z6sUCVUynRyimxs2n8rrULnlwhP9l&confirm=t&uuid=edd26a57-f448-4bdc-9369-fd83d62380a6\n",
            "To: /content/jigsaw_data.zip\n",
            "100%|██████████| 325M/325M [00:07<00:00, 45.8MB/s]\n"
          ]
        },
        {
          "data": {
            "application/vnd.google.colaboratory.intrinsic+json": {
              "type": "string"
            },
            "text/plain": [
              "'jigsaw_data.zip'"
            ]
          },
          "metadata": {},
          "output_type": "display_data"
        }
      ],
      "source": [
        "file_id = '1D31Z6sUCVUynRyimxs2n8rrULnlwhP9l'\n",
        "url = f'https://drive.google.com/uc?id={file_id}'\n",
        "output = 'jigsaw_data.zip'\n",
        "gdown.download(url, output)"
      ]
    },
    {
      "cell_type": "code",
      "execution_count": null,
      "id": "77804264",
      "metadata": {},
      "outputs": [
        {
          "name": "stdout",
          "output_type": "stream",
          "text": [
            "El dataset tiene 1999516 filas y 46 columnas.\n"
          ]
        },
        {
          "data": {
            "application/vnd.google.colaboratory.intrinsic+json": {
              "type": "dataframe",
              "variable_name": "comments"
            },
            "text/html": [
              "\n",
              "  <div id=\"df-c3c5804d-2edf-47da-9ee3-88042a583f5f\" class=\"colab-df-container\">\n",
              "    <div>\n",
              "<style scoped>\n",
              "    .dataframe tbody tr th:only-of-type {\n",
              "        vertical-align: middle;\n",
              "    }\n",
              "\n",
              "    .dataframe tbody tr th {\n",
              "        vertical-align: top;\n",
              "    }\n",
              "\n",
              "    .dataframe thead th {\n",
              "        text-align: right;\n",
              "    }\n",
              "</style>\n",
              "<table border=\"1\" class=\"dataframe\">\n",
              "  <thead>\n",
              "    <tr style=\"text-align: right;\">\n",
              "      <th></th>\n",
              "      <th>id</th>\n",
              "      <th>comment_text</th>\n",
              "      <th>split</th>\n",
              "      <th>created_date</th>\n",
              "      <th>publication_id</th>\n",
              "      <th>parent_id</th>\n",
              "      <th>article_id</th>\n",
              "      <th>rating</th>\n",
              "      <th>funny</th>\n",
              "      <th>wow</th>\n",
              "      <th>sad</th>\n",
              "      <th>likes</th>\n",
              "      <th>disagree</th>\n",
              "      <th>toxicity</th>\n",
              "      <th>severe_toxicity</th>\n",
              "      <th>obscene</th>\n",
              "      <th>sexual_explicit</th>\n",
              "      <th>identity_attack</th>\n",
              "      <th>insult</th>\n",
              "      <th>threat</th>\n",
              "      <th>male</th>\n",
              "      <th>female</th>\n",
              "      <th>transgender</th>\n",
              "      <th>other_gender</th>\n",
              "      <th>heterosexual</th>\n",
              "      <th>homosexual_gay_or_lesbian</th>\n",
              "      <th>bisexual</th>\n",
              "      <th>other_sexual_orientation</th>\n",
              "      <th>christian</th>\n",
              "      <th>jewish</th>\n",
              "      <th>muslim</th>\n",
              "      <th>hindu</th>\n",
              "      <th>buddhist</th>\n",
              "      <th>atheist</th>\n",
              "      <th>other_religion</th>\n",
              "      <th>black</th>\n",
              "      <th>white</th>\n",
              "      <th>asian</th>\n",
              "      <th>latino</th>\n",
              "      <th>other_race_or_ethnicity</th>\n",
              "      <th>physical_disability</th>\n",
              "      <th>intellectual_or_learning_disability</th>\n",
              "      <th>psychiatric_or_mental_illness</th>\n",
              "      <th>other_disability</th>\n",
              "      <th>identity_annotator_count</th>\n",
              "      <th>toxicity_annotator_count</th>\n",
              "    </tr>\n",
              "  </thead>\n",
              "  <tbody>\n",
              "    <tr>\n",
              "      <th>1027656</th>\n",
              "      <td>7012309</td>\n",
              "      <td>Hardly a civil comment and quite distressing t...</td>\n",
              "      <td>test</td>\n",
              "      <td>2017-04-25 13:15:28.130196+00</td>\n",
              "      <td>53</td>\n",
              "      <td>5175363.0</td>\n",
              "      <td>328777</td>\n",
              "      <td>approved</td>\n",
              "      <td>0</td>\n",
              "      <td>0</td>\n",
              "      <td>0</td>\n",
              "      <td>0</td>\n",
              "      <td>0</td>\n",
              "      <td>0.0</td>\n",
              "      <td>0.0</td>\n",
              "      <td>0.0</td>\n",
              "      <td>0.0</td>\n",
              "      <td>0.0</td>\n",
              "      <td>0.0</td>\n",
              "      <td>0.0</td>\n",
              "      <td>NaN</td>\n",
              "      <td>NaN</td>\n",
              "      <td>NaN</td>\n",
              "      <td>NaN</td>\n",
              "      <td>NaN</td>\n",
              "      <td>NaN</td>\n",
              "      <td>NaN</td>\n",
              "      <td>NaN</td>\n",
              "      <td>NaN</td>\n",
              "      <td>NaN</td>\n",
              "      <td>NaN</td>\n",
              "      <td>NaN</td>\n",
              "      <td>NaN</td>\n",
              "      <td>NaN</td>\n",
              "      <td>NaN</td>\n",
              "      <td>NaN</td>\n",
              "      <td>NaN</td>\n",
              "      <td>NaN</td>\n",
              "      <td>NaN</td>\n",
              "      <td>NaN</td>\n",
              "      <td>NaN</td>\n",
              "      <td>NaN</td>\n",
              "      <td>NaN</td>\n",
              "      <td>NaN</td>\n",
              "      <td>0</td>\n",
              "      <td>4</td>\n",
              "    </tr>\n",
              "    <tr>\n",
              "      <th>1751051</th>\n",
              "      <td>7111891</td>\n",
              "      <td>Vilifying the person does nothing to solve the...</td>\n",
              "      <td>test</td>\n",
              "      <td>2016-06-29 21:53:28.194337+00</td>\n",
              "      <td>21</td>\n",
              "      <td>369137.0</td>\n",
              "      <td>140322</td>\n",
              "      <td>approved</td>\n",
              "      <td>0</td>\n",
              "      <td>0</td>\n",
              "      <td>0</td>\n",
              "      <td>1</td>\n",
              "      <td>0</td>\n",
              "      <td>0.3</td>\n",
              "      <td>0.0</td>\n",
              "      <td>0.0</td>\n",
              "      <td>0.0</td>\n",
              "      <td>0.1</td>\n",
              "      <td>0.3</td>\n",
              "      <td>0.0</td>\n",
              "      <td>0.0</td>\n",
              "      <td>0.0</td>\n",
              "      <td>0.0</td>\n",
              "      <td>0.0</td>\n",
              "      <td>0.0</td>\n",
              "      <td>0.0</td>\n",
              "      <td>0.0</td>\n",
              "      <td>0.0</td>\n",
              "      <td>0.0</td>\n",
              "      <td>0.0</td>\n",
              "      <td>0.0</td>\n",
              "      <td>0.0</td>\n",
              "      <td>0.0</td>\n",
              "      <td>0.0</td>\n",
              "      <td>0.0</td>\n",
              "      <td>0.0</td>\n",
              "      <td>0.0</td>\n",
              "      <td>0.0</td>\n",
              "      <td>0.0</td>\n",
              "      <td>0.0</td>\n",
              "      <td>0.0</td>\n",
              "      <td>0.0</td>\n",
              "      <td>1.0</td>\n",
              "      <td>0.0</td>\n",
              "      <td>4</td>\n",
              "      <td>10</td>\n",
              "    </tr>\n",
              "    <tr>\n",
              "      <th>1839572</th>\n",
              "      <td>7141408</td>\n",
              "      <td>That Pope Francis would consider meeting with ...</td>\n",
              "      <td>test</td>\n",
              "      <td>2017-04-20 05:18:58.637117+00</td>\n",
              "      <td>53</td>\n",
              "      <td>NaN</td>\n",
              "      <td>328136</td>\n",
              "      <td>approved</td>\n",
              "      <td>0</td>\n",
              "      <td>0</td>\n",
              "      <td>0</td>\n",
              "      <td>1</td>\n",
              "      <td>0</td>\n",
              "      <td>0.4</td>\n",
              "      <td>0.0</td>\n",
              "      <td>0.0</td>\n",
              "      <td>0.1</td>\n",
              "      <td>0.2</td>\n",
              "      <td>0.3</td>\n",
              "      <td>0.0</td>\n",
              "      <td>1.0</td>\n",
              "      <td>0.0</td>\n",
              "      <td>0.0</td>\n",
              "      <td>0.0</td>\n",
              "      <td>0.0</td>\n",
              "      <td>0.0</td>\n",
              "      <td>0.0</td>\n",
              "      <td>0.0</td>\n",
              "      <td>1.0</td>\n",
              "      <td>0.0</td>\n",
              "      <td>0.0</td>\n",
              "      <td>0.0</td>\n",
              "      <td>0.0</td>\n",
              "      <td>0.0</td>\n",
              "      <td>0.0</td>\n",
              "      <td>0.0</td>\n",
              "      <td>0.0</td>\n",
              "      <td>0.0</td>\n",
              "      <td>0.0</td>\n",
              "      <td>0.0</td>\n",
              "      <td>0.0</td>\n",
              "      <td>0.0</td>\n",
              "      <td>0.0</td>\n",
              "      <td>0.0</td>\n",
              "      <td>4</td>\n",
              "      <td>10</td>\n",
              "    </tr>\n",
              "    <tr>\n",
              "      <th>767016</th>\n",
              "      <td>7053468</td>\n",
              "      <td>HI:Good to hear from you!!(and yes it was wort...</td>\n",
              "      <td>test</td>\n",
              "      <td>2017-01-26 16:03:13.562060+00</td>\n",
              "      <td>54</td>\n",
              "      <td>900688.0</td>\n",
              "      <td>164205</td>\n",
              "      <td>approved</td>\n",
              "      <td>0</td>\n",
              "      <td>0</td>\n",
              "      <td>0</td>\n",
              "      <td>4</td>\n",
              "      <td>0</td>\n",
              "      <td>0.0</td>\n",
              "      <td>0.0</td>\n",
              "      <td>0.0</td>\n",
              "      <td>0.0</td>\n",
              "      <td>0.0</td>\n",
              "      <td>0.0</td>\n",
              "      <td>0.0</td>\n",
              "      <td>NaN</td>\n",
              "      <td>NaN</td>\n",
              "      <td>NaN</td>\n",
              "      <td>NaN</td>\n",
              "      <td>NaN</td>\n",
              "      <td>NaN</td>\n",
              "      <td>NaN</td>\n",
              "      <td>NaN</td>\n",
              "      <td>NaN</td>\n",
              "      <td>NaN</td>\n",
              "      <td>NaN</td>\n",
              "      <td>NaN</td>\n",
              "      <td>NaN</td>\n",
              "      <td>NaN</td>\n",
              "      <td>NaN</td>\n",
              "      <td>NaN</td>\n",
              "      <td>NaN</td>\n",
              "      <td>NaN</td>\n",
              "      <td>NaN</td>\n",
              "      <td>NaN</td>\n",
              "      <td>NaN</td>\n",
              "      <td>NaN</td>\n",
              "      <td>NaN</td>\n",
              "      <td>NaN</td>\n",
              "      <td>0</td>\n",
              "      <td>4</td>\n",
              "    </tr>\n",
              "    <tr>\n",
              "      <th>1811958</th>\n",
              "      <td>7147900</td>\n",
              "      <td>Millenials are not going go along with someone...</td>\n",
              "      <td>test</td>\n",
              "      <td>2017-06-23 08:48:48.586771+00</td>\n",
              "      <td>53</td>\n",
              "      <td>NaN</td>\n",
              "      <td>347685</td>\n",
              "      <td>approved</td>\n",
              "      <td>0</td>\n",
              "      <td>0</td>\n",
              "      <td>0</td>\n",
              "      <td>36</td>\n",
              "      <td>2</td>\n",
              "      <td>0.16666666666666666</td>\n",
              "      <td>0.0</td>\n",
              "      <td>0.0</td>\n",
              "      <td>0.0</td>\n",
              "      <td>0.0</td>\n",
              "      <td>0.16666666666666666</td>\n",
              "      <td>0.0</td>\n",
              "      <td>NaN</td>\n",
              "      <td>NaN</td>\n",
              "      <td>NaN</td>\n",
              "      <td>NaN</td>\n",
              "      <td>NaN</td>\n",
              "      <td>NaN</td>\n",
              "      <td>NaN</td>\n",
              "      <td>NaN</td>\n",
              "      <td>NaN</td>\n",
              "      <td>NaN</td>\n",
              "      <td>NaN</td>\n",
              "      <td>NaN</td>\n",
              "      <td>NaN</td>\n",
              "      <td>NaN</td>\n",
              "      <td>NaN</td>\n",
              "      <td>NaN</td>\n",
              "      <td>NaN</td>\n",
              "      <td>NaN</td>\n",
              "      <td>NaN</td>\n",
              "      <td>NaN</td>\n",
              "      <td>NaN</td>\n",
              "      <td>NaN</td>\n",
              "      <td>NaN</td>\n",
              "      <td>NaN</td>\n",
              "      <td>0</td>\n",
              "      <td>6</td>\n",
              "    </tr>\n",
              "  </tbody>\n",
              "</table>\n",
              "</div>\n",
              "    <div class=\"colab-df-buttons\">\n",
              "\n",
              "  <div class=\"colab-df-container\">\n",
              "    <button class=\"colab-df-convert\" onclick=\"convertToInteractive('df-c3c5804d-2edf-47da-9ee3-88042a583f5f')\"\n",
              "            title=\"Convert this dataframe to an interactive table.\"\n",
              "            style=\"display:none;\">\n",
              "\n",
              "  <svg xmlns=\"http://www.w3.org/2000/svg\" height=\"24px\" viewBox=\"0 -960 960 960\">\n",
              "    <path d=\"M120-120v-720h720v720H120Zm60-500h600v-160H180v160Zm220 220h160v-160H400v160Zm0 220h160v-160H400v160ZM180-400h160v-160H180v160Zm440 0h160v-160H620v160ZM180-180h160v-160H180v160Zm440 0h160v-160H620v160Z\"/>\n",
              "  </svg>\n",
              "    </button>\n",
              "\n",
              "  <style>\n",
              "    .colab-df-container {\n",
              "      display:flex;\n",
              "      gap: 12px;\n",
              "    }\n",
              "\n",
              "    .colab-df-convert {\n",
              "      background-color: #E8F0FE;\n",
              "      border: none;\n",
              "      border-radius: 50%;\n",
              "      cursor: pointer;\n",
              "      display: none;\n",
              "      fill: #1967D2;\n",
              "      height: 32px;\n",
              "      padding: 0 0 0 0;\n",
              "      width: 32px;\n",
              "    }\n",
              "\n",
              "    .colab-df-convert:hover {\n",
              "      background-color: #E2EBFA;\n",
              "      box-shadow: 0px 1px 2px rgba(60, 64, 67, 0.3), 0px 1px 3px 1px rgba(60, 64, 67, 0.15);\n",
              "      fill: #174EA6;\n",
              "    }\n",
              "\n",
              "    .colab-df-buttons div {\n",
              "      margin-bottom: 4px;\n",
              "    }\n",
              "\n",
              "    [theme=dark] .colab-df-convert {\n",
              "      background-color: #3B4455;\n",
              "      fill: #D2E3FC;\n",
              "    }\n",
              "\n",
              "    [theme=dark] .colab-df-convert:hover {\n",
              "      background-color: #434B5C;\n",
              "      box-shadow: 0px 1px 3px 1px rgba(0, 0, 0, 0.15);\n",
              "      filter: drop-shadow(0px 1px 2px rgba(0, 0, 0, 0.3));\n",
              "      fill: #FFFFFF;\n",
              "    }\n",
              "  </style>\n",
              "\n",
              "    <script>\n",
              "      const buttonEl =\n",
              "        document.querySelector('#df-c3c5804d-2edf-47da-9ee3-88042a583f5f button.colab-df-convert');\n",
              "      buttonEl.style.display =\n",
              "        google.colab.kernel.accessAllowed ? 'block' : 'none';\n",
              "\n",
              "      async function convertToInteractive(key) {\n",
              "        const element = document.querySelector('#df-c3c5804d-2edf-47da-9ee3-88042a583f5f');\n",
              "        const dataTable =\n",
              "          await google.colab.kernel.invokeFunction('convertToInteractive',\n",
              "                                                    [key], {});\n",
              "        if (!dataTable) return;\n",
              "\n",
              "        const docLinkHtml = 'Like what you see? Visit the ' +\n",
              "          '<a target=\"_blank\" href=https://colab.research.google.com/notebooks/data_table.ipynb>data table notebook</a>'\n",
              "          + ' to learn more about interactive tables.';\n",
              "        element.innerHTML = '';\n",
              "        dataTable['output_type'] = 'display_data';\n",
              "        await google.colab.output.renderOutput(dataTable, element);\n",
              "        const docLink = document.createElement('div');\n",
              "        docLink.innerHTML = docLinkHtml;\n",
              "        element.appendChild(docLink);\n",
              "      }\n",
              "    </script>\n",
              "  </div>\n",
              "\n",
              "\n",
              "<div id=\"df-d3d34aee-3ec8-4f43-8db6-db00fadd84d8\">\n",
              "  <button class=\"colab-df-quickchart\" onclick=\"quickchart('df-d3d34aee-3ec8-4f43-8db6-db00fadd84d8')\"\n",
              "            title=\"Suggest charts\"\n",
              "            style=\"display:none;\">\n",
              "\n",
              "<svg xmlns=\"http://www.w3.org/2000/svg\" height=\"24px\"viewBox=\"0 0 24 24\"\n",
              "     width=\"24px\">\n",
              "    <g>\n",
              "        <path d=\"M19 3H5c-1.1 0-2 .9-2 2v14c0 1.1.9 2 2 2h14c1.1 0 2-.9 2-2V5c0-1.1-.9-2-2-2zM9 17H7v-7h2v7zm4 0h-2V7h2v10zm4 0h-2v-4h2v4z\"/>\n",
              "    </g>\n",
              "</svg>\n",
              "  </button>\n",
              "\n",
              "<style>\n",
              "  .colab-df-quickchart {\n",
              "      --bg-color: #E8F0FE;\n",
              "      --fill-color: #1967D2;\n",
              "      --hover-bg-color: #E2EBFA;\n",
              "      --hover-fill-color: #174EA6;\n",
              "      --disabled-fill-color: #AAA;\n",
              "      --disabled-bg-color: #DDD;\n",
              "  }\n",
              "\n",
              "  [theme=dark] .colab-df-quickchart {\n",
              "      --bg-color: #3B4455;\n",
              "      --fill-color: #D2E3FC;\n",
              "      --hover-bg-color: #434B5C;\n",
              "      --hover-fill-color: #FFFFFF;\n",
              "      --disabled-bg-color: #3B4455;\n",
              "      --disabled-fill-color: #666;\n",
              "  }\n",
              "\n",
              "  .colab-df-quickchart {\n",
              "    background-color: var(--bg-color);\n",
              "    border: none;\n",
              "    border-radius: 50%;\n",
              "    cursor: pointer;\n",
              "    display: none;\n",
              "    fill: var(--fill-color);\n",
              "    height: 32px;\n",
              "    padding: 0;\n",
              "    width: 32px;\n",
              "  }\n",
              "\n",
              "  .colab-df-quickchart:hover {\n",
              "    background-color: var(--hover-bg-color);\n",
              "    box-shadow: 0 1px 2px rgba(60, 64, 67, 0.3), 0 1px 3px 1px rgba(60, 64, 67, 0.15);\n",
              "    fill: var(--button-hover-fill-color);\n",
              "  }\n",
              "\n",
              "  .colab-df-quickchart-complete:disabled,\n",
              "  .colab-df-quickchart-complete:disabled:hover {\n",
              "    background-color: var(--disabled-bg-color);\n",
              "    fill: var(--disabled-fill-color);\n",
              "    box-shadow: none;\n",
              "  }\n",
              "\n",
              "  .colab-df-spinner {\n",
              "    border: 2px solid var(--fill-color);\n",
              "    border-color: transparent;\n",
              "    border-bottom-color: var(--fill-color);\n",
              "    animation:\n",
              "      spin 1s steps(1) infinite;\n",
              "  }\n",
              "\n",
              "  @keyframes spin {\n",
              "    0% {\n",
              "      border-color: transparent;\n",
              "      border-bottom-color: var(--fill-color);\n",
              "      border-left-color: var(--fill-color);\n",
              "    }\n",
              "    20% {\n",
              "      border-color: transparent;\n",
              "      border-left-color: var(--fill-color);\n",
              "      border-top-color: var(--fill-color);\n",
              "    }\n",
              "    30% {\n",
              "      border-color: transparent;\n",
              "      border-left-color: var(--fill-color);\n",
              "      border-top-color: var(--fill-color);\n",
              "      border-right-color: var(--fill-color);\n",
              "    }\n",
              "    40% {\n",
              "      border-color: transparent;\n",
              "      border-right-color: var(--fill-color);\n",
              "      border-top-color: var(--fill-color);\n",
              "    }\n",
              "    60% {\n",
              "      border-color: transparent;\n",
              "      border-right-color: var(--fill-color);\n",
              "    }\n",
              "    80% {\n",
              "      border-color: transparent;\n",
              "      border-right-color: var(--fill-color);\n",
              "      border-bottom-color: var(--fill-color);\n",
              "    }\n",
              "    90% {\n",
              "      border-color: transparent;\n",
              "      border-bottom-color: var(--fill-color);\n",
              "    }\n",
              "  }\n",
              "</style>\n",
              "\n",
              "  <script>\n",
              "    async function quickchart(key) {\n",
              "      const quickchartButtonEl =\n",
              "        document.querySelector('#' + key + ' button');\n",
              "      quickchartButtonEl.disabled = true;  // To prevent multiple clicks.\n",
              "      quickchartButtonEl.classList.add('colab-df-spinner');\n",
              "      try {\n",
              "        const charts = await google.colab.kernel.invokeFunction(\n",
              "            'suggestCharts', [key], {});\n",
              "      } catch (error) {\n",
              "        console.error('Error during call to suggestCharts:', error);\n",
              "      }\n",
              "      quickchartButtonEl.classList.remove('colab-df-spinner');\n",
              "      quickchartButtonEl.classList.add('colab-df-quickchart-complete');\n",
              "    }\n",
              "    (() => {\n",
              "      let quickchartButtonEl =\n",
              "        document.querySelector('#df-d3d34aee-3ec8-4f43-8db6-db00fadd84d8 button');\n",
              "      quickchartButtonEl.style.display =\n",
              "        google.colab.kernel.accessAllowed ? 'block' : 'none';\n",
              "    })();\n",
              "  </script>\n",
              "</div>\n",
              "\n",
              "    </div>\n",
              "  </div>\n"
            ],
            "text/plain": [
              "              id                                       comment_text split  \\\n",
              "1027656  7012309  Hardly a civil comment and quite distressing t...  test   \n",
              "1751051  7111891  Vilifying the person does nothing to solve the...  test   \n",
              "1839572  7141408  That Pope Francis would consider meeting with ...  test   \n",
              "767016   7053468  HI:Good to hear from you!!(and yes it was wort...  test   \n",
              "1811958  7147900  Millenials are not going go along with someone...  test   \n",
              "\n",
              "                          created_date publication_id  parent_id article_id  \\\n",
              "1027656  2017-04-25 13:15:28.130196+00             53  5175363.0     328777   \n",
              "1751051  2016-06-29 21:53:28.194337+00             21   369137.0     140322   \n",
              "1839572  2017-04-20 05:18:58.637117+00             53        NaN     328136   \n",
              "767016   2017-01-26 16:03:13.562060+00             54   900688.0     164205   \n",
              "1811958  2017-06-23 08:48:48.586771+00             53        NaN     347685   \n",
              "\n",
              "           rating funny wow sad likes disagree             toxicity  \\\n",
              "1027656  approved     0   0   0     0        0                  0.0   \n",
              "1751051  approved     0   0   0     1        0                  0.3   \n",
              "1839572  approved     0   0   0     1        0                  0.4   \n",
              "767016   approved     0   0   0     4        0                  0.0   \n",
              "1811958  approved     0   0   0    36        2  0.16666666666666666   \n",
              "\n",
              "        severe_toxicity obscene sexual_explicit identity_attack  \\\n",
              "1027656             0.0     0.0             0.0             0.0   \n",
              "1751051             0.0     0.0             0.0             0.1   \n",
              "1839572             0.0     0.0             0.1             0.2   \n",
              "767016              0.0     0.0             0.0             0.0   \n",
              "1811958             0.0     0.0             0.0             0.0   \n",
              "\n",
              "                      insult threat male female transgender other_gender  \\\n",
              "1027656                  0.0    0.0  NaN    NaN         NaN          NaN   \n",
              "1751051                  0.3    0.0  0.0    0.0         0.0          0.0   \n",
              "1839572                  0.3    0.0  1.0    0.0         0.0          0.0   \n",
              "767016                   0.0    0.0  NaN    NaN         NaN          NaN   \n",
              "1811958  0.16666666666666666    0.0  NaN    NaN         NaN          NaN   \n",
              "\n",
              "        heterosexual homosexual_gay_or_lesbian bisexual  \\\n",
              "1027656          NaN                       NaN      NaN   \n",
              "1751051          0.0                       0.0      0.0   \n",
              "1839572          0.0                       0.0      0.0   \n",
              "767016           NaN                       NaN      NaN   \n",
              "1811958          NaN                       NaN      NaN   \n",
              "\n",
              "        other_sexual_orientation christian jewish muslim hindu buddhist  \\\n",
              "1027656                      NaN       NaN    NaN    NaN   NaN      NaN   \n",
              "1751051                      0.0       0.0    0.0    0.0   0.0      0.0   \n",
              "1839572                      0.0       1.0    0.0    0.0   0.0      0.0   \n",
              "767016                       NaN       NaN    NaN    NaN   NaN      NaN   \n",
              "1811958                      NaN       NaN    NaN    NaN   NaN      NaN   \n",
              "\n",
              "        atheist other_religion black white asian latino  \\\n",
              "1027656     NaN            NaN   NaN   NaN   NaN    NaN   \n",
              "1751051     0.0            0.0   0.0   0.0   0.0    0.0   \n",
              "1839572     0.0            0.0   0.0   0.0   0.0    0.0   \n",
              "767016      NaN            NaN   NaN   NaN   NaN    NaN   \n",
              "1811958     NaN            NaN   NaN   NaN   NaN    NaN   \n",
              "\n",
              "        other_race_or_ethnicity physical_disability  \\\n",
              "1027656                     NaN                 NaN   \n",
              "1751051                     0.0                 0.0   \n",
              "1839572                     0.0                 0.0   \n",
              "767016                      NaN                 NaN   \n",
              "1811958                     NaN                 NaN   \n",
              "\n",
              "        intellectual_or_learning_disability psychiatric_or_mental_illness  \\\n",
              "1027656                                 NaN                           NaN   \n",
              "1751051                                 0.0                           1.0   \n",
              "1839572                                 0.0                           0.0   \n",
              "767016                                  NaN                           NaN   \n",
              "1811958                                 NaN                           NaN   \n",
              "\n",
              "        other_disability identity_annotator_count toxicity_annotator_count  \n",
              "1027656              NaN                        0                        4  \n",
              "1751051              0.0                        4                       10  \n",
              "1839572              0.0                        4                       10  \n",
              "767016               NaN                        0                        4  \n",
              "1811958              NaN                        0                        6  "
            ]
          },
          "metadata": {},
          "output_type": "display_data"
        }
      ],
      "source": [
        "comments_total = pd.read_csv(output, dtype=str)\n",
        "print(f\"El dataset tiene {comments_total.shape[0]} filas y {comments_total.shape[1]} columnas.\")\n",
        "comments = comments_total.query(\"split=='test'\").sample(50_000, random_state=42)\n",
        "comments[\"split\"].value_counts()\n",
        "comments.head()"
      ]
    },
    {
      "cell_type": "markdown",
      "id": "b5174ae5",
      "metadata": {},
      "source": [
        "## **1. Análisis Exploratorio de los Textos**\n",
        "---\n",
        "\n",
        "Normalmente en el análisis exploratorio de los textos, se trata de dar respuesta a los siguientes elementos:"
      ]
    },
    {
      "cell_type": "markdown",
      "id": "1bf0d426",
      "metadata": {},
      "source": [
        "### **1.1. Resumen General de los Textos**\n",
        "---\n",
        "\n",
        "- ¿Cuántos documentos tiene el corpus?\n",
        "- ¿En qué idioma se encuentran?\n",
        "- ¿Qué tamaño en MB tiene el corpus?\n",
        "- ¿Hay alguna relación entre distintos documentos del corpus?"
      ]
    },
    {
      "cell_type": "markdown",
      "id": "d9e8530f",
      "metadata": {},
      "source": [
        "El corpus originalmente cuenta con 1’999.516 documentos en idioma Inglés con un peso total de 310 mb, pero, para el desarrollo del proyecto haremos uso únicamente de 50.000 documentos que en total suman un peso de 22mb en formato CSV. Esta reducción en el tamaño del corpus se realiza con el fin de optimizar los tiempos de ejecución de los modelos que se desarrollarán a lo largo del proyecto. En general, no hay relación entre los documentos ya que cada uno de estos corresponden a tweets únicos."
      ]
    },
    {
      "cell_type": "markdown",
      "id": "fe479ce4",
      "metadata": {},
      "source": [
        "### **1.2. Resumen de la Calidad de los Textos**\n",
        "---\n",
        "\n",
        "- ¿Hay datos faltantes o documentos vacíos?\n",
        "- ¿Existen documentos ilegibles o con problemas de codificación?\n",
        "- ¿Hay mezcla de idiomas en el corpus?, ¿qué se puede hacer al respecto?"
      ]
    },
    {
      "cell_type": "code",
      "execution_count": null,
      "id": "3733a0b1",
      "metadata": {},
      "outputs": [
        {
          "data": {
            "text/plain": [
              "0"
            ]
          },
          "metadata": {},
          "output_type": "display_data"
        }
      ],
      "source": [
        "comments[\"comment_text\"].isna().sum()"
      ]
    },
    {
      "cell_type": "markdown",
      "id": "2fc3480c",
      "metadata": {},
      "source": [
        "El corpus no cuenta con documentos vacíos, aunque, si hay algunas variables que contienen valores nulos, pero estos corresponden a atributos de identidad, por lo tanto, es normal que hayan valores faltantes ya que si algún tweet no está relacionado de ninguna manera a algún valor de identidad se le asigna un valor nulo, por lo que estos valores faltantes no afectarán en el desarrollo o la calidad del modelo.\n",
        "\n",
        "Al tratarse de tweets, puede que algunos documentos cuenten con problemas de separación entre palabras, lenguaje no estandarizado, expresiones regionales, etc. Pero, esto no implica que el documento en cuestión sea ilegible, de hecho, el corpus en general cuenta con un nivel de alta calidad ya que hacia parte de un concurso organizado por Jigsaw. Por último, todos los documentos se encuentran en ingles por lo que no habrá problema por cruce de idiomas.\n"
      ]
    },
    {
      "cell_type": "markdown",
      "id": "571dfd1a",
      "metadata": {},
      "source": [
        "### **1.3. Tipos de variables**\n",
        "---\n",
        "\n",
        "- ¿El corpus tiene una variable objetivo a estimar?, de ser así, ¿es una variable continúa o categórica?\n",
        "- Analice la distribución de las etiquetas, identifique si hay desbalanceo de datos.\n",
        "- Analice los documentos, y determine cuál es la distribución de la longitud de los documentos a nivel carácter o palabra.\n",
        "- ¿El conjunto de datos cuenta con otras variables adicionales?, de ser así, debe analizar cuáles se incorporarán en el modelo y hacer un análisis descriptivo de las mismas."
      ]
    },
    {
      "cell_type": "markdown",
      "id": "4340fcb8",
      "metadata": {},
      "source": [
        "La variable objetivo a estimar es la de “Toxicity” la cual toma un valor continuo entre 0 y 1 y representa la fracción de evaluadores humanos que creían que el documento era considerado como toxico. Elaborando un histograma de esta la variable objetivo vemos que esta es la distribución de sus valores:"
      ]
    },
    {
      "cell_type": "code",
      "execution_count": null,
      "id": "6f5dc161",
      "metadata": {},
      "outputs": [
        {
          "data": {
            "text/plain": [
              "<Axes: title={'center': 'Toxicity distribution'}, ylabel='Frequency'>"
            ]
          },
          "metadata": {},
          "output_type": "display_data"
        },
        {
          "data": {
            "image/png": "[encoded data removed]",
            "text/plain": [
              "<Figure size 640x480 with 1 Axes>"
            ]
          },
          "metadata": {},
          "output_type": "display_data"
        }
      ],
      "source": [
        "comments[\"toxicity\"] = pd.to_numeric(comments[\"toxicity\"])\n",
        "comments[\"toxicity\"].plot( kind='hist', bins=20, title='Toxicity distribution' , logy=True)"
      ]
    },
    {
      "cell_type": "markdown",
      "id": "a495a53d",
      "metadata": {},
      "source": [
        "Analizando la distribución de la “Toxicity” vemos que hay un leve desbalanceo hacia aquellos documentos que se consideran como poco tóxicos. Por otra parte, también es interesante ver la distribución de la longitud de los documentos, al ser tweets sabemos que su longitud es corta por lo que elaboraremos un histograma a nivel de carácter, obteniendo la siguiente distribución:"
      ]
    },
    {
      "cell_type": "code",
      "execution_count": null,
      "id": "8469855b",
      "metadata": {},
      "outputs": [
        {
          "data": {
            "text/plain": [
              "count    50000.000000\n",
              "mean       297.189840\n",
              "std        269.142531\n",
              "min          1.000000\n",
              "25%         94.000000\n",
              "50%        202.000000\n",
              "75%        414.000000\n",
              "max       1535.000000\n",
              "Name: len_text, dtype: float64"
            ]
          },
          "metadata": {},
          "output_type": "display_data"
        },
        {
          "data": {
            "image/png": "[encoded data removed]",
            "text/plain": [
              "<Figure size 640x480 with 1 Axes>"
            ]
          },
          "metadata": {},
          "output_type": "display_data"
        }
      ],
      "source": [
        "comments[\"len_text\"] = comments[\"comment_text\"].str.len()\n",
        "comments[\"len_text\"].plot( kind='hist', bins=20, title='Comment length distribution' )\n",
        "comments[\"len_text\"].describe()"
      ]
    },
    {
      "cell_type": "markdown",
      "id": "1ee38bc6",
      "metadata": {},
      "source": [
        "Por último, el corpus cuenta con hasta 46 columnas, pero, además de los documentos (comment_text) y la variable objetivo (Toxicity) también haremos uso de las variables: \"severe_toxicity\", \"obscene\", \"sexual_explicit\", \"identity_attack\", \"insult\" y \"threat\". Las cuales indican sub tipos de toxicidad y al igual que la variable objetivo toma un valor continuo entre 0 y 1 y representa la fracción de evaluadores humanos que creían que el documento era considerado como el sub tipo de toxicidad indicado:\n",
        "\n",
        "Severe_toxicity: Esta variable indica la presencia de contenido extremadamente tóxico que puede causar un daño significativo o grave. Puede incluir ataques personales severos, difamación grave, amenazas violentas, o cualquier contenido que tenga un impacto especialmente perjudicial en la comunidad.\n",
        "\n",
        "Obscene: Esta variable señala la presencia de contenido que es ofensivo o repulsivo en términos de moral o decencia pública. Puede incluir lenguaje vulgar, grosero, indecente.\n",
        "\n",
        "Sexual_explicit: Indica la presencia de contenido que es explícitamente sexual en naturaleza. Esto podría incluir texto sexualmente sugestivo o referencias explícitas a actividad sexual.\n",
        "\n",
        "Identity_attack: Esta variable indica la presencia de contenido que ataca o denigra la identidad de un individuo o grupo. Puede incluir insultos basados en características personales como la raza, el género, la religión, la orientación sexual, la discapacidad, o cualquier otra característica protegida.\n",
        "\n",
        "Insult: Indica la presencia de contenido que es insultante o despectivo hacia un individuo o grupo. Esto puede incluir ataques personales, burlas, ridiculizaciones, o cualquier tipo de expresión que tenga la intención de menospreciar a alguien.\n",
        "\n",
        "Threat: Esta variable señala la presencia de contenido que contiene amenazas creíbles de violencia física, daño, o peligro para la seguridad personal de un individuo o grupo. Puede incluir amenazas de violencia física, acoso, intimidación, o cualquier tipo de declaración que indique una intención real de hacer daño.\n"
      ]
    },
    {
      "cell_type": "code",
      "execution_count": null,
      "id": "eae57886",
      "metadata": {},
      "outputs": [
        {
          "data": {
            "text/plain": [
              "severe_toxicity    0\n",
              "obscene            0\n",
              "sexual_explicit    0\n",
              "identity_attack    0\n",
              "insult             0\n",
              "threat             0\n",
              "dtype: int64"
            ]
          },
          "metadata": {},
          "output_type": "display_data"
        }
      ],
      "source": [
        "comments[[\"severe_toxicity\", \"obscene\", \"sexual_explicit\", \"identity_attack\", \"insult\", \"threat\"]].isna().sum()"
      ]
    },
    {
      "cell_type": "code",
      "execution_count": null,
      "id": "e7b74f62",
      "metadata": {},
      "outputs": [],
      "source": []
    },
    {
      "cell_type": "markdown",
      "id": "389532dc",
      "metadata": {},
      "source": [
        "### **1.4. Relación Entre Variables**\n",
        "---\n",
        "\n",
        "- Analice si existe alguna relación entre las variables. Puede utilizar medidas de correlación o visualizaciones.\n",
        "Segun se puede analizar en el conjunto de datos con el cual se esta trabajando se tienen multiples caracteristicas que se tomaron en cuenta entre las que destacaba el objetivo del conjunto de datos, los diferentes grupos que se habian tenido en cuenta a quienes iba dirigida los comentarios toxicos y la categoria en la que se enmarcaba cada comentario ofensivo.\n",
        "\n",
        "La tendencia general de los datos es que para los grupos que representan minorias se tiene un numero mas alto de comentarios ofensivos haciendo uso ya sea de su genero, de su raza o de su religion, asi mismo se nota la presencia de insultos, mensajes obscenos, amenazas entre otros, y su aumento cuando se relacionan a las caracteristicas mencionadas anteriormente, por lo que se puede ver que estas caracteristicas si estan relacionadas, sin embargo no necesariamente el tener una palabra de estos grupos hace que el comentario tenga un discurso de odio en su interior. \n",
        "\n",
        "- Identifique si hay redundancia entre las variables para una posterior eliminación o selección.\n",
        "Gracias a las distribuciones que se calcularon anteriormente se puede notar que todas las caracteristicas del conjunto de datos aportan diferentes atributos que puedn ser utiles al modelo que clasificara los comentarios posteriormente, por lo que no se hace necesario una eliminacion.\n"
      ]
    },
    {
      "cell_type": "markdown",
      "id": "698f42d4",
      "metadata": {
        "id": "698f42d4"
      },
      "source": [
        "## **Créditos**\n",
        "\n",
        "* **Profesor:** [Felipe Restrepo Calle](https://dis.unal.edu.co/~ferestrepoca/)\n",
        "* **Asistentes docentes:**\n",
        "    - [Juan Sebastián Lara Ramírez](https://www.linkedin.com/in/juan-sebastian-lara-ramirez-43570a214/).\n",
        "* **Diseño de imágenes:**\n",
        "    - [Rosa Alejandra Superlano Esquibel](mailto:rsuperlano@unal.edu.co).\n",
        "* **Coordinador de virtualización:**\n",
        "    - [Edder Hernández Forero](https://www.linkedin.com/in/edder-hernandez-forero-28aa8b207/).\n",
        "\n",
        "**Universidad Nacional de Colombia** - *Facultad de Ingeniería*"
      ]
    }
  ],
  "metadata": {
    "colab": {
      "provenance": []
    },
    "jupytext": {
      "cell_metadata_filter": "-all"
    },
    "kernelspec": {
      "display_name": "Python 3 (ipykernel)",
      "language": "python",
      "name": "python3"
    },
    "language_info": {
      "codemirror_mode": {
        "name": "ipython",
        "version": 3
      },
      "file_extension": ".py",
      "mimetype": "text/x-python",
      "name": "python",
      "nbconvert_exporter": "python",
      "pygments_lexer": "ipython3",
      "version": "3.12.2"
    }
  },
  "nbformat": 4,
  "nbformat_minor": 5
}
