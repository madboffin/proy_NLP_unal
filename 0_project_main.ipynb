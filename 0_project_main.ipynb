{
  "cells": [
    {
      "cell_type": "markdown",
      "id": "585dcbfa",
      "metadata": {
        "id": "585dcbfa"
      },
      "source": [
        "<img src=\"https://drive.google.com/uc?export=view&id=1AQr9H9bXDeNPchTRufU78g8z0yxHvrmC\" width=\"100%\">"
      ]
    },
    {
      "cell_type": "markdown",
      "id": "82ea3b5e",
      "metadata": {
        "id": "82ea3b5e"
      },
      "source": [
        "# **Entendimiento del Negocio y Carga de Textos**\n",
        "---\n",
        "\n",
        "Desarrollado por:\n",
        "```\n",
        "* Manuel Huertas    manuelhuertasfl@gmail.com\n",
        "* Jose Lugo         jlugon@unal.edu.co\n",
        "* Sebastian Valdes  js.valdes@uniandes.edu.co\n",
        "\n",
        "```"
      ]
    },
    {
      "cell_type": "markdown",
      "id": "fdb4c33d",
      "metadata": {
        "id": "fdb4c33d"
      },
      "source": [
        "## **1. Marco de Proyecto**\n",
        "---\n",
        "\n",
        "Normalmente, se suele construir un marco de proyecto para mostrar los resultados del entendimiento del negocio, es decir, debemos dar respuesta a los siguientes elementos:"
      ]
    },
    {
      "cell_type": "markdown",
      "id": "7a974ec1",
      "metadata": {
        "id": "7a974ec1"
      },
      "source": [
        "### **1.1. Trasfondo del Negocio**\n",
        "---"
      ]
    },
    {
      "cell_type": "markdown",
      "id": "18d9305a",
      "metadata": {
        "id": "18d9305a"
      },
      "source": [
        "En la actualidad, gracias a Internet, se han desarrollado diversas formas de conectarse y comunicarse con personas de todo el mundo, desde las redes sociales hasta los videojuegos en línea, donde es posible interactuar tanto para obtener información y conocimiento como para disfrutar de momentos de entretenimiento. \n",
        "Por esta razón, en los últimos años, cada vez más empresas han estado dispuestas a ingresar al mundo digital debido a la gran cantidad de usuarios que utilizan estas plataformas. \n",
        "Esto, a su vez, ha incrementado las comunidades virtuales y fortalecido los lazos resultantes.\n",
        "\n",
        "Sin embargo, también se ha observado un aumento en la violencia o toxicidad, como se refleja en diversas encuestas. \n",
        "Según una encuesta realizada por el centro de investigación Pew Research Center, el 40% de los encuestados manifestó haber sido víctima de violencia o toxicidad en las redes, siendo con frecuencia objeto de violencia sexual o acoso. \n",
        "Además, los encuestados informan con mayor frecuencia sobre este tipo de comportamientos, como se ha registrado entre 2014 y 2020.[[1]](https://www.pewresearch.org/internet/2021/01/13/the-state-of-online-harassment/).\n",
        "\n",
        "Por esta razón las empresas dueñas de estos espacios de interacción tienen la necesidad de usar filtros que permitan a sus usuarios compartir en el mundo digital sin estar expuestos a acoso por parte de otros, lo que afecta negativamente la experiencia que proveen. Empresas como Jigsaw y Google, ambas subsidiarias de Alphabet, han realizado esfuerzos para mitigar esta problemática. \n",
        "Por lo cual se han desarrollado filtros que permiten distinguir mensajes de odio que se reproducen en las redes con el fin de sancionar o limitar el acceso de usuarios que recurren a estas prácticas, no obstante los filtros a menudo fallan y enmarcan como discursos de odio mensajes que en su fondo no lo son, llevando a falsos positivos y posibles sanciones a usuarios que no están infringiendo las reglas de la comunidad, y así afectando la experiencia en general de todos modos.\n",
        "\n",
        "Es por esto que el presente trabajo busca identificar los mensajes violentos o de acoso que afectan estas comunidades, a la vez que se mantiene la calidad de la experiencia para los usuarios de forma que se permita tener comunidades y espacios seguros que no se vean afectados por filtros sesgados, con altos niveles de falsos positivos."
      ]
    },
    {
      "cell_type": "markdown",
      "id": "d09c63e5",
      "metadata": {
        "id": "d09c63e5"
      },
      "source": [
        "### **1.2. Alcance**\n",
        "---"
      ]
    },
    {
      "cell_type": "markdown",
      "id": "12e3be6b",
      "metadata": {
        "id": "12e3be6b"
      },
      "source": [
        "Para aliviar los problemas de toxicidad en las redes, este proyecto tiene como objetivo desarrollar un modelo capaz de clasificar los comentarios tóxicos, de interacciones en línea, que permita a las empresas, como Jigsaw y Google que tienen aplicaciones con interacción de usuarios, reconocer de una manera efectiva los niveles de violencia en redes, y que controle los falsos positivos que generan los filtros tradicionales. \n",
        "Por lo tanto el modelo debe ser sensible a diferentes contextos y debe poder distinguir los discursos de odio de los mensajes donde solo se mencionan palabras que sin serlo están asociadas a discursos de odio, como la palabra gay en inglés, o retrazo en español."
      ]
    },
    {
      "cell_type": "markdown",
      "id": "370e4a5d",
      "metadata": {
        "id": "370e4a5d"
      },
      "source": [
        "### **1.3. Plan**\n",
        "---\n",
        "\n",
        "Puede agregar una lista de actividades con tiempos estimados, un diagrama de Gantt o integrar alguna herramienta de gestión de proyectos para mostrar la planeación del proyecto."
      ]
    },
    {
      "cell_type": "markdown",
      "id": "3b465355",
      "metadata": {
        "id": "3b465355"
      },
      "source": [
        "| Fechas                         | Actividades                                                                                      |\n",
        "|--------------------------------|--------------------------------------------------------------------------------------------------|\n",
        "| 14 de Febrero - 21 de Febrero   | Entendimiento de negocio y carga de los datos.                                                    |\n",
        "| 22 de Febrero - 29 de Febrero   | Recopilación y limpieza de un conjunto de datos diverso y representativo.                         |\n",
        "| 1 de Marzo - 7 de Marzo         | Desarrollo de modelos de NLP que puedan reconocer diferentes formas y subtipos de toxicidad en los comentarios. |\n",
        "| 8 de Marzo - 14 de Marzo         | Implementación de mecanismos para detectar y reducir el sesgo en los modelos, asegurando que el reconocimiento de toxicidad no se vea influenciado negativamente por sesgos preexistentes en los datos. |\n",
        "| 15 de Marzo - 18 de Marzo        | Evaluación y optimización continua del modelo utilizando métricas específicas para medir el sesgo no intencionado y la precisión en la detección de toxicidad. |\n"
      ]
    },
    {
      "cell_type": "markdown",
      "id": "4a4e145b",
      "metadata": {
        "id": "4a4e145b"
      },
      "source": [
        "## **2. Definición del Corpus**\n",
        "---"
      ]
    },
    {
      "cell_type": "markdown",
      "id": "7261ad96",
      "metadata": {
        "id": "7261ad96"
      },
      "source": [
        "El corpus a usar para el desarrollo del proyecto proviene de Kaggle y se encuentra con el nombre de *“Jigsaw Unintended Bias in Toxicity Classification”* ([link a Kaggle](https://www.kaggle.com/competitions/jigsaw-unintended-bias-in-toxicity-classification/)).\n",
        "\n",
        "Este es un dataset con aproximadamente 1.97 millones comentarios de la plataforma *Civil Comments* ([más información](https://medium.com/@aja_15265/saying-goodbye-to-civil-comments-41859d3a2b1d)), creados entre 2015 y 2017 por usuarios angloparlantes.\n",
        "\n",
        "La columna principal del corpus es *comment_text*, que incluye el texto de cada comentario. \n",
        "Cada comentario está acompañado por una etiqueta principal de toxicidad (*target*), un número de 0 a 1, que indica la proporción de evaluadores que consideraron el comentario como tóxico. \n",
        "Además, el conjunto de datos incluye etiquetas para subtipos de toxicidad como *severe_toxicity*, *obscene*, *threat*, *insult*, *identity_attack* y *sexual_explicit*.\n",
        "\n",
        "El conjunto de datos también incluye atributos de identidad, según sean mencionadas en el comentario correspondiente. \n",
        "Estos atributos abarcan categorías como **género** (*male*, *female*, *transgender*, *other_gender*), **orientación sexual** (*heterosexual*, *homosexual_gay_or_lesbian*, *bisexual*, *other_sexual_orientation*), **religión** (*christian*, *jewish*, *muslim*, *hindu*, *buddhist*, *atheist*, *other_religion*), **raza** o **etnicidad** (*black*, *white*, *asian*, *latino*, *other_race_or_ethnicity*), y **discapacidad** (*physical_disability*, *intellectual_or_learning_disability*, *psychiatric_or_mental_illness*, *other_disability*).\n",
        "\n",
        "Además el corpus se encuentra particionado en los conjuntos de entrenamiento y prueba. \n",
        "El primero cuenta con 1'804.874 entradas, mientras que la partición de prueba tiene un total de 97.320 filas (Aunque no se hará uso de todas ya que el corpus es de tamaño considerable).\n",
        "\n",
        "Algunos ejemplos del dataset:\n",
        "* Ejemplo 1\n",
        "```\n",
        "Comentario: i'm a white woman in my late 60's and believe me, they are not too crazy about me either!!\n",
        "\n",
        "Etiquetas de toxicidad: All 0.0\n",
        "Etiquetas de mención de identidades: female: 1.0, white: 1.0 (all others 0.0)\n",
        "```\n",
        "* Ejemplo 2\n",
        "```\n",
        "Comentario: Continue to stand strong LGBT community. Yes, indeed, you'll overcome and you have.\n",
        "\n",
        "Etiqueta de toxicidad: All 0.0\n",
        "Etiquetas de mención de identidades: homosexual_gay_or_lesbian: 0.8, bisexual: 0.6, transgender: 0.3 (all others 0.0)\n",
        "```\n",
        "\n",
        "El dataset se encuentra disponible en la plataforma de Kaggle, bajo el título mencionado anteriormente, y también fué subido a Google Drive como un archivo público.\n"
      ]
    },
    {
      "cell_type": "markdown",
      "id": "4a9cc180",
      "metadata": {
        "id": "4a9cc180"
      },
      "source": [
        "### **2.2. Carga o Adquisición de Textos**\n",
        "---"
      ]
    },
    {
      "cell_type": "code",
      "execution_count": null,
      "id": "30f7dd01",
      "metadata": {},
      "outputs": [],
      "source": [
        "%pip install gdown"
      ]
    },
    {
      "cell_type": "code",
      "execution_count": 5,
      "id": "1b580368",
      "metadata": {
        "id": "1b580368"
      },
      "outputs": [],
      "source": [
        "import gdown  # libreria para descargar archivos grandes desde Google Drive\n",
        "import pandas as pd"
      ]
    },
    {
      "cell_type": "code",
      "execution_count": 4,
      "id": "5e07020d",
      "metadata": {},
      "outputs": [
        {
          "name": "stderr",
          "output_type": "stream",
          "text": [
            "Downloading...\n",
            "From (original): https://drive.google.com/uc?id=1D31Z6sUCVUynRyimxs2n8rrULnlwhP9l\n",
            "From (redirected): https://drive.google.com/uc?id=1D31Z6sUCVUynRyimxs2n8rrULnlwhP9l&confirm=t&uuid=8933c1bc-b9a9-4473-a3a9-a87b685c9840\n",
            "To: c:\\Users\\LENOVO\\Documents\\Programming\\unalNLP_proj\\data\\jigsaw_data.zip\n",
            "100%|██████████| 325M/325M [00:07<00:00, 46.1MB/s] \n"
          ]
        },
        {
          "data": {
            "text/plain": [
              "'data/jigsaw_data.zip'"
            ]
          },
          "execution_count": 4,
          "metadata": {},
          "output_type": "execute_result"
        }
      ],
      "source": [
        "file_id = '1D31Z6sUCVUynRyimxs2n8rrULnlwhP9l'\n",
        "url = f'https://drive.google.com/uc?id={file_id}'\n",
        "output = 'data/jigsaw_data.zip'\n",
        "gdown.download(url, output)"
      ]
    },
    {
      "cell_type": "code",
      "execution_count": 9,
      "id": "6c5dc707",
      "metadata": {},
      "outputs": [
        {
          "name": "stdout",
          "output_type": "stream",
          "text": [
            "El dataset tiene 1999516 filas y 46 columnas.\n"
          ]
        },
        {
          "data": {
            "text/html": [
              "<div>\n",
              "<style scoped>\n",
              "    .dataframe tbody tr th:only-of-type {\n",
              "        vertical-align: middle;\n",
              "    }\n",
              "\n",
              "    .dataframe tbody tr th {\n",
              "        vertical-align: top;\n",
              "    }\n",
              "\n",
              "    .dataframe thead th {\n",
              "        text-align: right;\n",
              "    }\n",
              "</style>\n",
              "<table border=\"1\" class=\"dataframe\">\n",
              "  <thead>\n",
              "    <tr style=\"text-align: right;\">\n",
              "      <th></th>\n",
              "      <th>id</th>\n",
              "      <th>comment_text</th>\n",
              "      <th>split</th>\n",
              "      <th>created_date</th>\n",
              "      <th>publication_id</th>\n",
              "      <th>parent_id</th>\n",
              "      <th>article_id</th>\n",
              "      <th>rating</th>\n",
              "      <th>funny</th>\n",
              "      <th>wow</th>\n",
              "      <th>...</th>\n",
              "      <th>white</th>\n",
              "      <th>asian</th>\n",
              "      <th>latino</th>\n",
              "      <th>other_race_or_ethnicity</th>\n",
              "      <th>physical_disability</th>\n",
              "      <th>intellectual_or_learning_disability</th>\n",
              "      <th>psychiatric_or_mental_illness</th>\n",
              "      <th>other_disability</th>\n",
              "      <th>identity_annotator_count</th>\n",
              "      <th>toxicity_annotator_count</th>\n",
              "    </tr>\n",
              "  </thead>\n",
              "  <tbody>\n",
              "    <tr>\n",
              "      <th>0</th>\n",
              "      <td>1083994</td>\n",
              "      <td>He got his money... now he lies in wait till a...</td>\n",
              "      <td>train</td>\n",
              "      <td>2017-03-06 15:21:53.675241+00</td>\n",
              "      <td>21</td>\n",
              "      <td>NaN</td>\n",
              "      <td>317120</td>\n",
              "      <td>approved</td>\n",
              "      <td>0</td>\n",
              "      <td>0</td>\n",
              "      <td>...</td>\n",
              "      <td>NaN</td>\n",
              "      <td>NaN</td>\n",
              "      <td>NaN</td>\n",
              "      <td>NaN</td>\n",
              "      <td>NaN</td>\n",
              "      <td>NaN</td>\n",
              "      <td>NaN</td>\n",
              "      <td>NaN</td>\n",
              "      <td>0</td>\n",
              "      <td>67</td>\n",
              "    </tr>\n",
              "    <tr>\n",
              "      <th>1</th>\n",
              "      <td>650904</td>\n",
              "      <td>Mad dog will surely put the liberals in mental...</td>\n",
              "      <td>train</td>\n",
              "      <td>2016-12-02 16:44:21.329535+00</td>\n",
              "      <td>21</td>\n",
              "      <td>NaN</td>\n",
              "      <td>154086</td>\n",
              "      <td>approved</td>\n",
              "      <td>0</td>\n",
              "      <td>0</td>\n",
              "      <td>...</td>\n",
              "      <td>NaN</td>\n",
              "      <td>NaN</td>\n",
              "      <td>NaN</td>\n",
              "      <td>NaN</td>\n",
              "      <td>NaN</td>\n",
              "      <td>NaN</td>\n",
              "      <td>NaN</td>\n",
              "      <td>NaN</td>\n",
              "      <td>0</td>\n",
              "      <td>76</td>\n",
              "    </tr>\n",
              "    <tr>\n",
              "      <th>2</th>\n",
              "      <td>5902188</td>\n",
              "      <td>And Trump continues his lifelong cowardice by ...</td>\n",
              "      <td>train</td>\n",
              "      <td>2017-09-05 19:05:32.341360+00</td>\n",
              "      <td>55</td>\n",
              "      <td>NaN</td>\n",
              "      <td>374342</td>\n",
              "      <td>approved</td>\n",
              "      <td>1</td>\n",
              "      <td>0</td>\n",
              "      <td>...</td>\n",
              "      <td>NaN</td>\n",
              "      <td>NaN</td>\n",
              "      <td>NaN</td>\n",
              "      <td>NaN</td>\n",
              "      <td>NaN</td>\n",
              "      <td>NaN</td>\n",
              "      <td>NaN</td>\n",
              "      <td>NaN</td>\n",
              "      <td>0</td>\n",
              "      <td>63</td>\n",
              "    </tr>\n",
              "    <tr>\n",
              "      <th>3</th>\n",
              "      <td>7084460</td>\n",
              "      <td>\"while arresting a man for resisting arrest\".\\...</td>\n",
              "      <td>test</td>\n",
              "      <td>2016-11-01 16:53:33.561631+00</td>\n",
              "      <td>13</td>\n",
              "      <td>NaN</td>\n",
              "      <td>149218</td>\n",
              "      <td>approved</td>\n",
              "      <td>0</td>\n",
              "      <td>0</td>\n",
              "      <td>...</td>\n",
              "      <td>NaN</td>\n",
              "      <td>NaN</td>\n",
              "      <td>NaN</td>\n",
              "      <td>NaN</td>\n",
              "      <td>NaN</td>\n",
              "      <td>NaN</td>\n",
              "      <td>NaN</td>\n",
              "      <td>NaN</td>\n",
              "      <td>0</td>\n",
              "      <td>76</td>\n",
              "    </tr>\n",
              "    <tr>\n",
              "      <th>4</th>\n",
              "      <td>5410943</td>\n",
              "      <td>Tucker and Paul are both total bad ass mofo's.</td>\n",
              "      <td>train</td>\n",
              "      <td>2017-06-14 05:08:21.997315+00</td>\n",
              "      <td>21</td>\n",
              "      <td>NaN</td>\n",
              "      <td>344096</td>\n",
              "      <td>approved</td>\n",
              "      <td>0</td>\n",
              "      <td>0</td>\n",
              "      <td>...</td>\n",
              "      <td>NaN</td>\n",
              "      <td>NaN</td>\n",
              "      <td>NaN</td>\n",
              "      <td>NaN</td>\n",
              "      <td>NaN</td>\n",
              "      <td>NaN</td>\n",
              "      <td>NaN</td>\n",
              "      <td>NaN</td>\n",
              "      <td>0</td>\n",
              "      <td>80</td>\n",
              "    </tr>\n",
              "  </tbody>\n",
              "</table>\n",
              "<p>5 rows × 46 columns</p>\n",
              "</div>"
            ],
            "text/plain": [
              "        id                                       comment_text  split  \\\n",
              "0  1083994  He got his money... now he lies in wait till a...  train   \n",
              "1   650904  Mad dog will surely put the liberals in mental...  train   \n",
              "2  5902188  And Trump continues his lifelong cowardice by ...  train   \n",
              "3  7084460  \"while arresting a man for resisting arrest\".\\...   test   \n",
              "4  5410943     Tucker and Paul are both total bad ass mofo's.  train   \n",
              "\n",
              "                    created_date publication_id parent_id article_id  \\\n",
              "0  2017-03-06 15:21:53.675241+00             21       NaN     317120   \n",
              "1  2016-12-02 16:44:21.329535+00             21       NaN     154086   \n",
              "2  2017-09-05 19:05:32.341360+00             55       NaN     374342   \n",
              "3  2016-11-01 16:53:33.561631+00             13       NaN     149218   \n",
              "4  2017-06-14 05:08:21.997315+00             21       NaN     344096   \n",
              "\n",
              "     rating funny wow  ... white asian latino other_race_or_ethnicity  \\\n",
              "0  approved     0   0  ...   NaN   NaN    NaN                     NaN   \n",
              "1  approved     0   0  ...   NaN   NaN    NaN                     NaN   \n",
              "2  approved     1   0  ...   NaN   NaN    NaN                     NaN   \n",
              "3  approved     0   0  ...   NaN   NaN    NaN                     NaN   \n",
              "4  approved     0   0  ...   NaN   NaN    NaN                     NaN   \n",
              "\n",
              "  physical_disability intellectual_or_learning_disability  \\\n",
              "0                 NaN                                 NaN   \n",
              "1                 NaN                                 NaN   \n",
              "2                 NaN                                 NaN   \n",
              "3                 NaN                                 NaN   \n",
              "4                 NaN                                 NaN   \n",
              "\n",
              "  psychiatric_or_mental_illness other_disability identity_annotator_count  \\\n",
              "0                           NaN              NaN                        0   \n",
              "1                           NaN              NaN                        0   \n",
              "2                           NaN              NaN                        0   \n",
              "3                           NaN              NaN                        0   \n",
              "4                           NaN              NaN                        0   \n",
              "\n",
              "  toxicity_annotator_count  \n",
              "0                       67  \n",
              "1                       76  \n",
              "2                       63  \n",
              "3                       76  \n",
              "4                       80  \n",
              "\n",
              "[5 rows x 46 columns]"
            ]
          },
          "execution_count": 9,
          "metadata": {},
          "output_type": "execute_result"
        }
      ],
      "source": [
        "comments = pd.read_csv(output, dtype=str)\n",
        "print(f\"El dataset tiene {comments.shape[0]} filas y {comments.shape[1]} columnas.\")\n",
        "comments.head()"
      ]
    },
    {
      "cell_type": "markdown",
      "id": "698f42d4",
      "metadata": {
        "id": "698f42d4"
      },
      "source": [
        "## **Créditos**\n",
        "\n",
        "* **Profesor:** [Felipe Restrepo Calle](https://dis.unal.edu.co/~ferestrepoca/)\n",
        "* **Asistentes docentes:**\n",
        "    - [Juan Sebastián Lara Ramírez](https://www.linkedin.com/in/juan-sebastian-lara-ramirez-43570a214/).\n",
        "* **Diseño de imágenes:**\n",
        "    - [Rosa Alejandra Superlano Esquibel](mailto:rsuperlano@unal.edu.co).\n",
        "* **Coordinador de virtualización:**\n",
        "    - [Edder Hernández Forero](https://www.linkedin.com/in/edder-hernandez-forero-28aa8b207/).\n",
        "\n",
        "**Universidad Nacional de Colombia** - *Facultad de Ingeniería*"
      ]
    }
  ],
  "metadata": {
    "colab": {
      "provenance": []
    },
    "jupytext": {
      "cell_metadata_filter": "-all"
    },
    "kernelspec": {
      "display_name": "Python 3 (ipykernel)",
      "language": "python",
      "name": "python3"
    },
    "language_info": {
      "codemirror_mode": {
        "name": "ipython",
        "version": 3
      },
      "file_extension": ".py",
      "mimetype": "text/x-python",
      "name": "python",
      "nbconvert_exporter": "python",
      "pygments_lexer": "ipython3",
      "version": "3.12.2"
    }
  },
  "nbformat": 4,
  "nbformat_minor": 5
}
