{
  "cells": [
    {
      "cell_type": "markdown",
      "id": "f937b2ff",
      "metadata": {
        "id": "f937b2ff"
      },
      "source": [
        "<img src=\"https://drive.google.com/uc?export=view&id=1e7ctPi8O3bTQoLZaO9ZZjwGr2r8Z93RS\" width=\"100%\">"
      ]
    },
    {
      "cell_type": "markdown",
      "id": "a9669dfd",
      "metadata": {
        "id": "a9669dfd"
      },
      "source": [
        "# Entendimiento y Preparación del Corpus\n",
        "---\n",
        "\n",
        "Este notebook es una plantilla que le puede servir como guía para el segundo entregable del proyecto aplicado."
      ]
    },
    {
      "cell_type": "markdown",
      "id": "f6de2158",
      "metadata": {
        "id": "f6de2158"
      },
      "source": [
        "## **1. Análisis Exploratorio de los Textos**\n",
        "---\n",
        "\n",
        "Normalmente en el análisis exploratorio de los textos, se trata de dar respuesta a los siguientes elementos:"
      ]
    },
    {
      "cell_type": "markdown",
      "id": "20031c7b",
      "metadata": {
        "id": "20031c7b"
      },
      "source": [
        "### **1.1. Resumen General de los Textos**\n",
        "---\n",
        "\n",
        "- ¿Cuántos documentos tiene el corpus?\n",
        "- ¿En qué idioma se encuentran?\n",
        "- ¿Qué tamaño en MB tiene el corpus?\n",
        "- ¿Hay alguna relación entre distintos documentos del corpus?"
      ]
    },
    {
      "cell_type": "markdown",
      "id": "8b0f9910",
      "metadata": {
        "id": "8b0f9910"
      },
      "source": [
        "---**INGRESE SU RESPUESTA**---"
      ]
    },
    {
      "cell_type": "markdown",
      "id": "447ad6f5",
      "metadata": {
        "id": "447ad6f5"
      },
      "source": [
        "### **1.2. Resumen de la Calidad de los Textos**\n",
        "---\n",
        "\n",
        "- ¿Hay datos faltantes o documentos vacíos?\n",
        "- ¿Existen documentos ilegibles o con problemas de codificación?\n",
        "- ¿Hay mezcla de idiomas en el corpus?, ¿qué se puede hacer al respecto?"
      ]
    },
    {
      "cell_type": "markdown",
      "id": "74f59e76",
      "metadata": {
        "id": "74f59e76"
      },
      "source": [
        "---**INGRESE SU RESPUESTA**---"
      ]
    },
    {
      "cell_type": "markdown",
      "id": "e90ec109",
      "metadata": {
        "id": "e90ec109"
      },
      "source": [
        "### **1.3. Tipos de variables**\n",
        "---\n",
        "\n",
        "- ¿El corpus tiene una variable objetivo a estimar?, de ser así, ¿es una variable continúa o categórica?\n",
        "- Analice la distribución de las etiquetas, identifique si hay desbalanceo de datos.\n",
        "- Analice los documentos, y determine cuál es la distribución de la longitud de los documentos a nivel carácter o palabra.\n",
        "- ¿El conjunto de datos cuenta con otras variables adicionales?, de ser así, debe analizar cuáles se incorporarán en el modelo y hacer un análisis descriptivo de las mismas."
      ]
    },
    {
      "cell_type": "markdown",
      "id": "d0c26982",
      "metadata": {
        "id": "d0c26982"
      },
      "source": [
        "---**INGRESE SU RESPUESTA**---"
      ]
    },
    {
      "cell_type": "markdown",
      "id": "53af2475",
      "metadata": {
        "id": "53af2475"
      },
      "source": [
        "### **1.4. Relación Entre Variables**\n",
        "---\n",
        "\n",
        "- Analice si existe alguna relación entre las variables. Puede utilizar medidas de correlación o visualizaciones.\n",
        "- Identifique si hay redundancia entre las variables para una posterior eliminación o selección."
      ]
    },
    {
      "cell_type": "markdown",
      "id": "2bd6f16f",
      "metadata": {
        "id": "2bd6f16f"
      },
      "source": [
        "---**INGRESE SU RESPUESTA**---"
      ]
    },
    {
      "cell_type": "markdown",
      "id": "56fe78e6",
      "metadata": {
        "id": "56fe78e6"
      },
      "source": [
        "## **2. Limpieza de los Textos**\n",
        "---\n",
        "\n",
        "La selección de las técnicas de preprocesamiento del corpus puede variar en cada conjunto de datos. Recuerde que puede aplicar (no necesariamente todas) las técnicas generales vistas en el curso, tales como:\n",
        "\n",
        "- Tokenizacion\n",
        "- Normalización de textos.\n",
        "- Limpieza con expresiones regulares.\n",
        "- Lematización.\n",
        "- Filtrado de palabras.\n",
        "- Modificaciones en la grafía."
      ]
    },
    {
      "cell_type": "code",
      "execution_count": null,
      "id": "b2e644a9",
      "metadata": {
        "id": "b2e644a9"
      },
      "outputs": [],
      "source": [
        "# ---INGRESE SU CÓDIGO---"
      ]
    },
    {
      "cell_type": "markdown",
      "id": "958f4f5e",
      "metadata": {
        "id": "958f4f5e"
      },
      "source": [
        "## **Créditos**\n",
        "\n",
        "* **Profesor:** [Felipe Restrepo Calle](https://dis.unal.edu.co/~ferestrepoca/)\n",
        "* **Asistentes docentes:**\n",
        "    - [Juan Sebastián Lara Ramírez](https://www.linkedin.com/in/juan-sebastian-lara-ramirez-43570a214/).\n",
        "* **Diseño de imágenes:**\n",
        "    - [Rosa Alejandra Superlano Esquibel](mailto:rsuperlano@unal.edu.co).\n",
        "* **Coordinador de virtualización:**\n",
        "    - [Edder Hernández Forero](https://www.linkedin.com/in/edder-hernandez-forero-28aa8b207/).\n",
        "\n",
        "**Universidad Nacional de Colombia** - *Facultad de Ingeniería*"
      ]
    }
  ],
  "metadata": {
    "jupytext": {
      "cell_metadata_filter": "-all"
    },
    "kernelspec": {
      "display_name": "Python 3 (ipykernel)",
      "language": "python",
      "name": "python3"
    },
    "colab": {
      "provenance": []
    }
  },
  "nbformat": 4,
  "nbformat_minor": 5
}