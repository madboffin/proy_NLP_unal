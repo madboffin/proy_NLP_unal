{
  "cells": [
    {
      "cell_type": "markdown",
      "id": "95a353ad",
      "metadata": {
        "id": "95a353ad"
      },
      "source": [
        "<img src=\"https://drive.google.com/uc?export=view&id=1WNLKH10YpQNNk9eeRIyYLwGkxNbNp-Mm\" width=\"100%\">"
      ]
    },
    {
      "cell_type": "markdown",
      "id": "db98c1e5",
      "metadata": {
        "id": "db98c1e5"
      },
      "source": [
        "# Modelamiento y Evaluación\n",
        "---\n",
        "\n",
        "Este notebook es una plantilla que le puede servir como guía para el cuarto entregable del proyecto aplicado."
      ]
    },
    {
      "cell_type": "markdown",
      "id": "ecf2872a",
      "metadata": {
        "id": "ecf2872a"
      },
      "source": [
        "## **1. Tipo de Modelamiento**\n",
        "---\n",
        "\n",
        "Seleccione el tipo de modelo que puede usar para dar respuesta al problema de NLP. Recuerde que dispone de modelos que incluyen:\n",
        "\n",
        "- **Regresión**: se busca estimar un valor continúo a partir de los textos.\n",
        "- **Clasificación**: permite estimar un valor categórico a partir de los textos.\n",
        "- **Agrupamiento**: permite encontrar grupos de documentos similares.\n",
        "- **Modelos de tópicos**: permite encontrar temas/tópicos dentro del corpus e interpretarlo.\n",
        "- **Otros modelos**: recuerde que dispone de otros tipos de tareas supervisadas y no supervisadas desde NLP. Puede utilizar modelos pre-enternados con el fin de dar una solución.\n",
        "\n",
        "Justifique la selección del modelo."
      ]
    },
    {
      "cell_type": "markdown",
      "id": "cb8ad321",
      "metadata": {
        "id": "cb8ad321"
      },
      "source": [
        "---**INGRESE SU RESPUESTA**---"
      ]
    },
    {
      "cell_type": "markdown",
      "id": "acce0c81",
      "metadata": {
        "id": "acce0c81"
      },
      "source": [
        "## **2. Implementación del modelo**\n",
        "---\n",
        "\n",
        "A continuación encuentra los pasos que puede seguir para la implementación de un modelo:"
      ]
    },
    {
      "cell_type": "markdown",
      "id": "b1980ae8",
      "metadata": {
        "id": "b1980ae8"
      },
      "source": [
        "### **2.1. Importar Modelo**\n",
        "---\n",
        "\n",
        "Seleccione la librería de NLP que utilizará para el modelo e impórtelo:"
      ]
    },
    {
      "cell_type": "code",
      "execution_count": null,
      "id": "85befcf3",
      "metadata": {
        "id": "85befcf3"
      },
      "outputs": [],
      "source": [
        "# ---**INGRESE SU CÓDIGO**---"
      ]
    },
    {
      "cell_type": "markdown",
      "id": "8a04b1d3",
      "metadata": {
        "id": "8a04b1d3"
      },
      "source": [
        "### **2.2. Entrenamiento del Modelo y Selección de Hiperparámetros**\n",
        "---\n",
        "\n",
        "Si está utilizando un modelo que requiere entrenamiento, deberá entrenarlo y seleccionar un conjunto de hiperparámetros válido para el mismo:"
      ]
    },
    {
      "cell_type": "code",
      "execution_count": null,
      "id": "3d2e6e40",
      "metadata": {
        "id": "3d2e6e40"
      },
      "outputs": [],
      "source": [
        "# ---**INGRESE SU CÓDIGO**---"
      ]
    },
    {
      "cell_type": "markdown",
      "id": "8c8e2724",
      "metadata": {
        "id": "8c8e2724"
      },
      "source": [
        "## **3. Evaluación o Aplicación del modelo**\n",
        "---\n",
        "\n",
        "Si entrenó un modelo, recuerde que debe reportar el desempeño del mismo sobre un conjunto de datos no visto (test). Considere que dispone de las siguientes métricas:\n",
        "\n",
        "- **Clasificación**: accuracy, precision, recall, f1-score, AUC.\n",
        "- **Regresión**: $r^2$, error cuadrático medio, error absoluto medio.\n",
        "- **Agrupamiento**: coeficiente de silueta, índice de Davies-Bouldin.\n",
        "- **Tópicos**: perplexity, score de coherencia."
      ]
    },
    {
      "cell_type": "code",
      "execution_count": null,
      "id": "61f88011",
      "metadata": {
        "id": "61f88011"
      },
      "outputs": [],
      "source": [
        "# ---**INGRESE SU CÓDIGO**---"
      ]
    },
    {
      "cell_type": "markdown",
      "id": "0cd6d281",
      "metadata": {
        "id": "0cd6d281"
      },
      "source": [
        "Adicionalmente, si utilizó un modelo pre-entrenado, debe generar predicciones y mostrar el resultado final de la aplicación del modelo sobre sus datos:"
      ]
    },
    {
      "cell_type": "code",
      "execution_count": null,
      "id": "700faaef",
      "metadata": {
        "id": "700faaef"
      },
      "outputs": [],
      "source": [
        "# ---**INGRESE SU CÓDIGO**---"
      ]
    },
    {
      "cell_type": "markdown",
      "id": "22e4f647",
      "metadata": {
        "id": "22e4f647"
      },
      "source": [
        "## **Créditos**\n",
        "\n",
        "* **Profesor:** [Felipe Restrepo Calle](https://dis.unal.edu.co/~ferestrepoca/)\n",
        "* **Asistentes docentes:**\n",
        "    - [Juan Sebastián Lara Ramírez](https://www.linkedin.com/in/juan-sebastian-lara-ramirez-43570a214/).\n",
        "* **Diseño de imágenes:**\n",
        "    - [Rosa Alejandra Superlano Esquibel](mailto:rsuperlano@unal.edu.co).\n",
        "* **Coordinador de virtualización:**\n",
        "    - [Edder Hernández Forero](https://www.linkedin.com/in/edder-hernandez-forero-28aa8b207/).\n",
        "\n",
        "**Universidad Nacional de Colombia** - *Facultad de Ingeniería*"
      ]
    }
  ],
  "metadata": {
    "jupytext": {
      "cell_metadata_filter": "-all"
    },
    "kernelspec": {
      "display_name": "Python 3 (ipykernel)",
      "language": "python",
      "name": "python3"
    },
    "colab": {
      "provenance": []
    }
  },
  "nbformat": 4,
  "nbformat_minor": 5
}